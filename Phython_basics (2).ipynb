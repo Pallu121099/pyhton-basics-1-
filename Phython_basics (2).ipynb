{
  "nbformat": 4,
  "nbformat_minor": 0,
  "metadata": {
    "colab": {
      "provenance": []
    },
    "kernelspec": {
      "name": "python3",
      "display_name": "Python 3"
    },
    "language_info": {
      "name": "python"
    }
  },
  "cells": [
    {
      "cell_type": "markdown",
      "source": [
        "1. What is Python, and why is it popular..?\n",
        "   \n",
        "   Python is a high-level, interpreted programming language known for its readability and simplicity. Its popularity stems from several factors:\n",
        "\n",
        "Ease of Learning: Python's clear syntax makes it relatively easy for beginners to learn.\n",
        "Versatility: It can be used for a wide range of applications, including web development, data science, machine learning, artificial intelligence, scientific computing, and automation.\n",
        "Large Community and Rich Ecosystem: Python has a vast and active community, which contributes to a wealth of libraries, frameworks, and resources that make development faster and easier.\n",
        "Portability: Python code can run on various operating systems without modification.\n",
        "Open Source and Free: Python is free to use and distribute, making it accessible to everyone."
      ],
      "metadata": {
        "id": "bKBqRxlFXCVW"
      }
    },
    {
      "cell_type": "markdown",
      "source": [
        "2.  What is an interpreter in Python ?\n",
        "\n",
        "    An interpreter in Python is a program that directly executes code line by line, rather than compiling the entire code into machine code before execution."
      ],
      "metadata": {
        "id": "ztj7rCi0WW6u"
      }
    },
    {
      "cell_type": "markdown",
      "source": [
        "3. What are pre-defined keywords in Python ?\n",
        "\n",
        "    Pre-defined keywords in Python are special reserved words that have specific meanings and cannot be used as identifiers (like variable names, function names, etc.). I'll provide an explanation in a markdown cell and then show you how to list them in a code cell.\n",
        "    "
      ],
      "metadata": {
        "id": "p_JnPUIrUyDf"
      }
    },
    {
      "cell_type": "markdown",
      "source": [
        "\n",
        "4. Can keywords be used as variable names..?\n",
        "No, pre-defined keywords in Python cannot be used as variable names or any other identifiers. They have specific meanings within the Python language and using them as variable names would cause a syntax error.\n",
        "\n",
        "5. What is mutability in Python..?\n"
      ],
      "metadata": {
        "id": "U8fbDkn3Ux9-"
      }
    },
    {
      "cell_type": "code",
      "execution_count": null,
      "metadata": {
        "id": "LovY85XCUwu0"
      },
      "outputs": [],
      "source": []
    },
    {
      "cell_type": "markdown",
      "metadata": {
        "id": "09b39b0d"
      },
      "source": [
        "Pre-defined keywords in Python are special reserved words that have specific meanings and cannot be used as identifiers (like variable names, function names, etc.). They are part of the language's syntax and structure."
      ]
    },
    {
      "cell_type": "markdown",
      "metadata": {
        "id": "cb08b579"
      },
      "source": [
        "4. Can keywords be used as variable names..?\n",
        "No, pre-defined keywords in Python cannot be used as variable names or any other identifiers. They have specific meanings within the Python language and using them as variable names would cause a syntax error.\n",
        "\n",
        "5. What is mutability in Python..?\n",
        "\n",
        "Mutability in Python refers to whether the state of an object can be modified after it is created. Mutable objects can be changed after creation, while immutable objects cannot.\n",
        "\n",
        "Here are some examples of mutable and immutable data types in Python:\n",
        "\n",
        "**Mutable:**\n",
        "* Lists\n",
        "* Dictionaries\n",
        "* Sets\n",
        "\n",
        "**Immutable:**\n",
        "* Numbers (int, float, complex)\n",
        "* Strings\n",
        "* Tuples\n",
        "* Frozen sets\n",
        "\n",
        "6. Why are lists mutable, but tuples are immutable ..?\n",
        "\n",
        "\n",
        "\n"
      ]
    },
    {
      "cell_type": "markdown",
      "metadata": {
        "id": "5d45f945"
      },
      "source": [
        "4. Can keywords be used as variable names..?\n",
        "No, pre-defined keywords in Python cannot be used as variable names or any other identifiers. They have specific meanings within the Python language and using them as variable names would cause a syntax error.\n",
        "5. What is mutability in Python..?\n",
        "\n",
        "Mutability in Python refers to whether the state of an object can be modified after it is created. Mutable objects can be changed after creation, while immutable objects cannot.\n",
        "\n",
        "Here are some examples of mutable and immutable data types in Python:\n",
        "\n",
        "**Mutable:**\n",
        "* Lists\n",
        "* Dictionaries\n",
        "* Sets\n",
        "\n",
        "**Immutable:**\n",
        "* Numbers (int, float, complex)\n",
        "* Strings\n",
        "* Tuples\n",
        "* Frozen sets\n",
        "\n",
        "Understanding mutability is important because it affects how objects are handled in memory and how they behave when passed to functions or methods.\n",
        "\n",
        "6. Why are lists mutable, but tuples are immutable ..?\n",
        "\n",
        "The fundamental difference between lists and tuples in terms of mutability stems from their design and intended use:\n",
        "\n",
        "*   **Lists are designed to be dynamic sequences:** They are meant for situations where you need to add, remove, or modify elements frequently. Their internal structure allows for efficient in-place modification.\n",
        "\n",
        "*   **Tuples are designed to be static sequences:** They are intended for representing collections of items that should not change. Their immutability provides benefits like:\n",
        "    *   **Data integrity:** Once a tuple is created, you can be sure its contents won't be accidentally altered.\n",
        "    *   **Performance:** Immutability can allow for some internal optimizations that are not possible with mutable objects.\n",
        "    *   **Usability as dictionary keys:** Because tuples are immutable, they can be used as keys in dictionaries, while lists cannot. This is because dictionary keys must be hashable, and mutability makes objects unhashable.\n",
        "\n",
        "In essence, the choice between using a list or a tuple depends on whether you need a collection whose contents can change (list) or a collection whose contents should remain constant (tuple).\n",
        "\n",
        "7. What is the difference between “==” and “is” operators in Python..?\n",
        "\n"
      ]
    },
    {
      "cell_type": "markdown",
      "metadata": {
        "id": "d062037c"
      },
      "source": [
        "4. Can keywords be used as variable names..?\n",
        "No, pre-defined keywords in Python cannot be used as variable names or any other identifiers. They have specific meanings within the Python language and using them as variable names would cause a syntax error.\n",
        "5. What is mutability in Python..?\n",
        "\n",
        "Mutability in Python refers to whether the state of an object can be modified after it is created. Mutable objects can be changed after creation, while immutable objects cannot.\n",
        "\n",
        "Here are some examples of mutable and immutable data types in Python:\n",
        "\n",
        "**Mutable:**\n",
        "* Lists\n",
        "* Dictionaries\n",
        "* Sets\n",
        "\n",
        "**Immutable:**\n",
        "* Numbers (int, float, complex)\n",
        "* Strings\n",
        "* Tuples\n",
        "* Frozen sets\n",
        "\n",
        "Understanding mutability is important because it affects how objects are handled in memory and how they behave when passed to functions or methods.\n",
        "\n",
        "6. Why are lists mutable, but tuples are immutable ..?\n",
        "\n",
        "The fundamental difference between lists and tuples in terms of mutability stems from their design and intended use:\n",
        "\n",
        "*   **Lists are designed to be dynamic sequences:** They are meant for situations where you need to add, remove, or modify elements frequently. Their internal structure allows for efficient in-place modification.\n",
        "\n",
        "*   **Tuples are designed to be static sequences:** They are intended for representing collections of items that should not change. Their immutability provides benefits like:\n",
        "    *   **Data integrity:** Once a tuple is created, you can be sure its contents won't be accidentally altered.\n",
        "    *   **Performance:** Immutability can allow for some internal optimizations that are not possible with mutable objects.\n",
        "    *   **Usability as dictionary keys:** Because tuples are immutable, they can be used as keys in dictionaries, while lists cannot. This is because dictionary keys must be hashable, and mutability makes objects unhashable.\n",
        "\n",
        "In essence, the choice between using a list or a tuple depends on whether you need a collection whose contents can change (list) or a collection whose contents should remain constant (tuple).\n",
        "\n",
        "7. What is the difference between “==” and “is” operators in Python..?\n",
        "\n",
        "In Python, the `==` and `is` operators are used for comparison, but they serve different purposes:\n",
        "\n",
        "*   **`==` (Equality Operator):** This operator compares the *values* of two objects. It returns `True` if the objects have the same value, and `False` otherwise.\n",
        "\n",
        "*   **`is` (Identity Operator):** This operator compares the *identity* of two objects. It returns `True` if the two variables point to the exact same object in memory, and `False` otherwise. The identity of an object can be obtained using the `id()` function.\n",
        "\n",
        "Here's a simple way to think about it:\n",
        "\n",
        "*   `==` asks: \"Do these two objects have the same contents?\"\n",
        "*   `is` asks: \"Are these two variables the very same object?\"\n",
        "\n",
        "You can demonstrate this difference with examples involving mutable and immutable objects. For immutable objects like strings or numbers, `==` and `is` might sometimes yield the same result due to Python's internal optimizations (like string interning). However, for mutable objects like lists, `==` will be true if the lists have the same elements in the same order, but `is` will only be true if they are the exact same list object in memory.\n",
        "\n",
        "8."
      ]
    },
    {
      "cell_type": "markdown",
      "metadata": {
        "id": "1862c6e9"
      },
      "source": [
        "4. Can keywords be used as variable names..?\n",
        "No, pre-defined keywords in Python cannot be used as variable names or any other identifiers. They have specific meanings within the Python language and using them as variable names would cause a syntax error.\n",
        "5. What is mutability in Python..?\n",
        "\n",
        "Mutability in Python refers to whether the state of an object can be modified after it is created. Mutable objects can be changed after creation, while immutable objects cannot.\n",
        "\n",
        "Here are some examples of mutable and immutable data types in Python:\n",
        "\n",
        "**Mutable:**\n",
        "* Lists\n",
        "* Dictionaries\n",
        "* Sets\n",
        "\n",
        "**Immutable:**\n",
        "* Numbers (int, float, complex)\n",
        "* Strings\n",
        "* Tuples\n",
        "* Frozen sets\n",
        "\n",
        "Understanding mutability is important because it affects how objects are handled in memory and how they behave when passed to functions or methods.\n",
        "\n",
        "6. Why are lists mutable, but tuples are immutable ..?\n",
        "\n",
        "The fundamental difference between lists and tuples in terms of mutability stems from their design and intended use:\n",
        "\n",
        "*   **Lists are designed to be dynamic sequences:** They are meant for situations where you need to add, remove, or modify elements frequently. Their internal structure allows for efficient in-place modification.\n",
        "\n",
        "*   **Tuples are designed to be static sequences:** They are intended for representing collections of items that should not change. Their immutability provides benefits like:\n",
        "    *   **Data integrity:** Once a tuple is created, you can be sure its contents won't be accidentally altered.\n",
        "    *   **Performance:** Immutability can allow for some internal optimizations that are not possible with mutable objects.\n",
        "    *   **Usability as dictionary keys:** Because tuples are immutable, they can be used as keys in dictionaries, while lists cannot. This is because dictionary keys must be hashable, and mutability makes objects unhashable.\n",
        "\n",
        "In essence, the choice between using a list or a tuple depends on whether you need a collection whose contents can change (list) or a collection whose contents should remain constant (tuple).\n",
        "\n",
        "7. What is the difference between “==” and “is” operators in Python..?\n",
        "\n",
        "In Python, the `==` and `is` operators are used for comparison, but they serve different purposes:\n",
        "\n",
        "*   **`==` (Equality Operator):** This operator compares the *values* of two objects. It returns `True` if the objects have the same value, and `False` otherwise.\n",
        "\n",
        "*   **`is` (Identity Operator):** This operator compares the *identity* of two objects. It returns `True` if the two variables point to the exact same object in memory, and `False` otherwise. The identity of an object can be obtained using the `id()` function.\n",
        "\n",
        "Here's a simple way to think about it:\n",
        "\n",
        "*   `==` asks: \"Do these two objects have the same contents?\"\n",
        "*   `is` asks: \"Are these two variables the very same object?\"\n",
        "\n",
        "You can demonstrate this difference with examples involving mutable and immutable objects. For immutable objects like strings or numbers, `==` and `is` might sometimes yield the same result due to Python's internal optimizations (like string interning). However, for mutable objects like lists, `==` will be true if the lists have the same elements in the same order, but `is` will only be true if they are the exact same list object in memory.\n",
        "\n",
        "8. What are logical operators in Python..?\n",
        "\n",
        "Logical operators are used to combine conditional statements. In Python, the main logical operators are `and`, `or`, and `not`.\n",
        "\n",
        "*   **`and`:** Returns `True` if both operands are `True`.\n",
        "*   **`or`:** Returns `True` if at least one of the operands is `True`.\n",
        "*   **`not`:** Returns the opposite boolean value of the operand. If the operand is `True`, it returns `False`, and if the operand is `False`, it returns `True`.\n",
        "\n",
        "\n"
      ]
    },
    {
      "cell_type": "markdown",
      "metadata": {
        "id": "8dc08e88"
      },
      "source": [
        "9. What is type casting in Python ..?\n",
        "\n",
        "Type casting (also known as type conversion) in Python is the process of converting an object of one data type into another data type. This is often necessary when you need to perform operations that require specific data types, or when you need to change the way data is represented.\n",
        "\n",
        "Python provides built-in functions for performing type casting, such as:\n",
        "\n",
        "* `int()`: Converts a value to an integer.\n",
        "* `float()`: Converts a value to a floating-point number.\n",
        "* `str()`: Converts a value to a string.\n",
        "* `list()`: Converts a sequence (like a tuple or string) to a list.\n",
        "* `tuple()`: Converts a sequence (like a list or string) to a tuple.\n",
        "* `dict()`: Converts a sequence of key-value pairs (like a list of tuples) to a dictionary.\n",
        "* `set()`: Converts a sequence to a set.\n",
        "\n",
        "It's important to note that not all type conversions are possible, and attempting an invalid conversion will result in a `TypeError`. For example, you cannot directly convert a string containing non-numeric characters to an integer.\n",
        "  "
      ]
    },
    {
      "cell_type": "markdown",
      "metadata": {
        "id": "3bd4a042"
      },
      "source": [
        "10. What is the difference between implicit and explicit type casting..?\n",
        "\n",
        "   "
      ]
    },
    {
      "cell_type": "markdown",
      "metadata": {
        "id": "4da4811e"
      },
      "source": [
        "In Python, type casting can occur implicitly or explicitly:\n",
        "\n",
        "* **Implicit Type Casting (Coercion):** This happens automatically when Python converts one data type to another during an operation without the user's direct intervention. Python does this to avoid data loss or to perform operations between compatible types. A common example is when you perform an arithmetic operation between an integer and a float; Python implicitly converts the integer to a float before performing the calculation."
      ]
    },
    {
      "cell_type": "code",
      "metadata": {
        "colab": {
          "base_uri": "https://localhost:8080/"
        },
        "id": "5d3bac3a",
        "outputId": "59c1d817-c046-43bf-d582-6885ce1c23f4"
      },
      "source": [
        "num_str = \"123\"\n",
        "num_int_explicit = int(num_str)\n",
        "print(num_int_explicit) # Output: 123\n",
        "print(type(num_int_explicit)) # Output: <class 'int'>\n",
        "\n",
        "num_float_explicit = float(num_int)\n",
        "print(num_float_explicit) # Output: 100.0\n",
        "print(type(num_float_explicit)) # Output: <class 'float'>"
      ],
      "execution_count": 2,
      "outputs": [
        {
          "output_type": "stream",
          "name": "stdout",
          "text": [
            "123\n",
            "<class 'int'>\n",
            "100.0\n",
            "<class 'float'>\n"
          ]
        }
      ]
    },
    {
      "cell_type": "markdown",
      "source": [
        "11. What is the purpose of conditional statements in Python..?\n",
        "\n"
      ],
      "metadata": {
        "id": "eQvUGNBAfp4x"
      }
    },
    {
      "cell_type": "markdown",
      "metadata": {
        "id": "7ae5db67"
      },
      "source": [
        "Conditional statements in Python are used to execute different blocks of code based on whether a specified condition is true or false. They allow your program to make decisions and respond to different situations, making your code more dynamic and versatile.\n",
        "\n",
        "The main conditional statements in Python are:\n",
        "\n",
        "*   **`if` statement:** Executes a block of code if a condition is true.\n",
        "*   **`elif` statement:** (short for \"else if\") Checks an additional condition if the previous `if` or `elif` conditions were false.\n",
        "*   **`else` statement:** Executes a block of code if none of the preceding `if` or `elif` conditions are true.\n",
        "\n",
        "By using these statements, you can create logic that allows your program to follow different paths of execution depending on the data it is processing or the conditions it encounters. This is essential for creating programs that can handle a variety of inputs and scenarios."
      ]
    },
    {
      "cell_type": "markdown",
      "source": [
        "12. How does the elif statement work?"
      ],
      "metadata": {
        "id": "l3oJbINcgCRZ"
      }
    },
    {
      "cell_type": "markdown",
      "metadata": {
        "id": "0cea2883"
      },
      "source": [
        "The `elif` statement in Python is short for \"else if\". It is used in conjunction with an `if` statement (and optionally an `else` statement) to check for multiple conditions sequentially.\n",
        "\n",
        "Here's how it works:\n",
        "\n",
        "1.  The `if` statement's condition is evaluated first. If it is `True`, the code block under the `if` is executed, and the rest of the `elif` and `else` blocks are skipped.\n",
        "2.  If the `if` statement's condition is `False`, the program moves to the first `elif` statement.\n",
        "3.  The condition of the `elif` statement is then evaluated. If it is `True`, the code block under this `elif` is executed, and the rest of the `elif` and `else` blocks are skipped.\n",
        "4.  If the `elif` condition is `False`, Python moves to the next `elif` statement (if any) and repeats the process.\n",
        "5.  If all `if` and `elif` conditions are `False`, the code block under the `else` statement (if present) is executed.\n",
        "\n",
        "Essentially, `elif` allows you to test multiple conditions in a cascading manner. As soon as one condition in the `if`-`elif` chain is found to be `True`, its corresponding code block is executed, and the rest of the chain is ignored.\n"
      ]
    },
    {
      "cell_type": "markdown",
      "metadata": {
        "id": "282fa833"
      },
      "source": [
        "13. What is the difference between for and while loops..?\n",
        "\n",
        "In Python, both `for` and `while` loops are used for iteration, but they are typically used in different scenarios based on whether the number of iterations is known beforehand.\n",
        "\n",
        "*   **`for` loop:** A `for` loop is used to iterate over a sequence (like a list, tuple, string, or range) or other iterable objects. It's generally used when you know the number of times you want to loop or when you want to iterate through each item in a collection.\n",
        "\n",
        "14. Describe a scenario where a while loop is more suitable than a for loop..?"
      ]
    },
    {
      "cell_type": "code",
      "metadata": {
        "colab": {
          "base_uri": "https://localhost:8080/"
        },
        "id": "4212d788",
        "outputId": "1e008f44-98c4-40c5-8141-406feb235494"
      },
      "source": [
        "    # Example of a while loop\n",
        "    count = 0\n",
        "    while count < 5:\n",
        "      print(count)\n",
        "      count += 1"
      ],
      "execution_count": 3,
      "outputs": [
        {
          "output_type": "stream",
          "name": "stdout",
          "text": [
            "0\n",
            "1\n",
            "2\n",
            "3\n",
            "4\n"
          ]
        }
      ]
    },
    {
      "cell_type": "markdown",
      "metadata": {
        "id": "05867c42"
      },
      "source": [
        " 14. Describe a scenario where a while loop is more suitable than a for loop...?\n",
        "\n",
        "\n",
        "  A `while` loop is generally more suitable than a `for` loop when the number of iterations is not predetermined or depends on a condition that might change during the loop's execution.\n",
        "\n",
        "Here's a scenario:\n",
        "\n",
        "**Scenario: Reading data from a file until a specific line is found or the end of the file is reached.**\n",
        "\n",
        "In this case, you don't know in advance how many lines you will need to read from the file until you find the specific line or reach the end. A `while` loop is perfect for this because you can set the loop condition to continue reading as long as the desired line hasn't been found *and* the end of the file hasn't been reached.\n",
        "\n"
      ]
    },
    {
      "cell_type": "code",
      "source": [
        "#Practical Questions\n",
        "#1. Write a Python program to print \"Hello, World!\"\n",
        "\n",
        "print(\"Hello, World!\")"
      ],
      "metadata": {
        "colab": {
          "base_uri": "https://localhost:8080/"
        },
        "id": "pBhec941h914",
        "outputId": "f8caa489-ecc8-44ea-c2c4-42f362c7e3f0"
      },
      "execution_count": 7,
      "outputs": [
        {
          "output_type": "stream",
          "name": "stdout",
          "text": [
            "Hello, World!\n"
          ]
        }
      ]
    },
    {
      "cell_type": "code",
      "source": [
        "#2. Write a Python program that displays your name and age\n",
        "\n",
        "name = \"Pallavi\"\n",
        "age = 26\n",
        "\n",
        "print(\"My name is\", name)\n",
        "print(\"I am\", age, \"years old\")"
      ],
      "metadata": {
        "colab": {
          "base_uri": "https://localhost:8080/"
        },
        "id": "s37bIv6airZ8",
        "outputId": "78cbbaf1-4cc1-4da1-b391-0266b1e09a24"
      },
      "execution_count": 11,
      "outputs": [
        {
          "output_type": "stream",
          "name": "stdout",
          "text": [
            "My name is Pallavi\n",
            "I am 26 years old\n"
          ]
        }
      ]
    },
    {
      "cell_type": "code",
      "metadata": {
        "colab": {
          "base_uri": "https://localhost:8080/"
        },
        "id": "89d069f9",
        "outputId": "2862b805-d461-4155-8946-e0e3fdcbaaf9"
      },
      "source": [
        "#3. Write code to print all the pre-defined keywords in Python using the keyword library\n",
        "\n",
        "\n",
        "import keyword\n",
        "\n",
        "print(keyword.kwlist)"
      ],
      "execution_count": 12,
      "outputs": [
        {
          "output_type": "stream",
          "name": "stdout",
          "text": [
            "['False', 'None', 'True', 'and', 'as', 'assert', 'async', 'await', 'break', 'class', 'continue', 'def', 'del', 'elif', 'else', 'except', 'finally', 'for', 'from', 'global', 'if', 'import', 'in', 'is', 'lambda', 'nonlocal', 'not', 'or', 'pass', 'raise', 'return', 'try', 'while', 'with', 'yield']\n"
          ]
        }
      ]
    },
    {
      "cell_type": "code",
      "metadata": {
        "colab": {
          "base_uri": "https://localhost:8080/"
        },
        "id": "c5e2c0bd",
        "outputId": "b6aa0c7b-0dbc-43ee-dd0e-adfaf35acd51"
      },
      "source": [
        "import keyword\n",
        "\n",
        "word = input(\"Enter a word to check if it's a Python keyword: \")\n",
        "\n",
        "if word in keyword.kwlist:\n",
        "  print(f\"'{word}' is a Python keyword.\")\n",
        "else:\n",
        "  print(f\"'{word}' is not a Python keyword.\")"
      ],
      "execution_count": 13,
      "outputs": [
        {
          "output_type": "stream",
          "name": "stdout",
          "text": [
            "Enter a word to check if it's a Python keyword: 28\n",
            "'28' is not a Python keyword.\n"
          ]
        }
      ]
    },
    {
      "cell_type": "code",
      "metadata": {
        "colab": {
          "base_uri": "https://localhost:8080/"
        },
        "id": "11af24a7",
        "outputId": "7a2c49ea-f95e-4f78-9ed8-1a960a74d564"
      },
      "source": [
        "#5. Create a list and tuple in Python, and demonstrate how attempting to change an element works differently\n",
        "for each.\n",
        "\n",
        "\n",
        "# Create a list\n",
        "my_list = [1, 2, 3, 4, 5]\n",
        "print(\"Original list:\", my_list)\n",
        "\n",
        "# Attempt to change an element in the list\n",
        "my_list[2] = 10\n",
        "print(\"List after attempting to change an element:\", my_list)\n",
        "\n",
        "# Create a tuple\n",
        "my_tuple = (1, 2, 3, 4, 5)\n",
        "print(\"\\nOriginal tuple:\", my_tuple)\n",
        "\n",
        "# Attempt to change an element in the tuple\n",
        "try:\n",
        "  my_tuple[2] = 10\n",
        "except TypeError as e:\n",
        "  print(\"Attempting to change an element in the tuple resulted in an error:\", e)"
      ],
      "execution_count": 14,
      "outputs": [
        {
          "output_type": "stream",
          "name": "stdout",
          "text": [
            "Original list: [1, 2, 3, 4, 5]\n",
            "List after attempting to change an element: [1, 2, 10, 4, 5]\n",
            "\n",
            "Original tuple: (1, 2, 3, 4, 5)\n",
            "Attempting to change an element in the tuple resulted in an error: 'tuple' object does not support item assignment\n"
          ]
        }
      ]
    },
    {
      "cell_type": "code",
      "source": [],
      "metadata": {
        "id": "FyL6q3pxow_l"
      },
      "execution_count": null,
      "outputs": []
    },
    {
      "cell_type": "code",
      "metadata": {
        "colab": {
          "base_uri": "https://localhost:8080/"
        },
        "id": "a077e67d",
        "outputId": "63797ec5-7dea-4ab3-d75a-731cd1472eb2"
      },
      "source": [
        "\n",
        "#6. def demonstrate_mutability(mutable_list, immutable_int):\n",
        "  \"\"\"\n",
        "  Demonstrates the behavior of mutable and immutable arguments in a function.\n",
        "  \"\"\"\n",
        "  print(\"Inside the function (before modification):\")\n",
        "  print(\"  Mutable list:\", mutable_list)\n",
        "  print(\"  Immutable integer:\", immutable_int)\n",
        "\n",
        "  # Modify the mutable argument\n",
        "  mutable_list.append(100)\n",
        "\n",
        "  # Attempt to modify the immutable argument (this will not change the original)\n",
        "  immutable_int = immutable_int + 1\n",
        "\n",
        "  print(\"Inside the function (after modification):\")\n",
        "  print(\"  Mutable list:\", mutable_list)\n",
        "  print(\"  Immutable integer:\", immutable_int)\n",
        "\n",
        "# --- Demonstrate with a mutable list and an immutable integer ---\n",
        "\n",
        "my_list = [1, 2, 3]\n",
        "my_int = 10\n",
        "\n",
        "print(\"Outside the function (before calling):\")\n",
        "print(\"  Mutable list:\", my_list)\n",
        "print(\"  Immutable integer:\", my_int)\n",
        "\n",
        "demonstrate_mutability(my_list, my_int)\n",
        "\n",
        "print(\"\\nOutside the function (after calling):\")\n",
        "print(\"  Mutable list:\", my_list) # The original list is modified\n",
        "print(\"  Immutable integer:\", my_int) # The original integer is not modified"
      ],
      "execution_count": 15,
      "outputs": [
        {
          "output_type": "stream",
          "name": "stdout",
          "text": [
            "Outside the function (before calling):\n",
            "  Mutable list: [1, 2, 3]\n",
            "  Immutable integer: 10\n",
            "Inside the function (before modification):\n",
            "  Mutable list: [1, 2, 3]\n",
            "  Immutable integer: 10\n",
            "Inside the function (after modification):\n",
            "  Mutable list: [1, 2, 3, 100]\n",
            "  Immutable integer: 11\n",
            "\n",
            "Outside the function (after calling):\n",
            "  Mutable list: [1, 2, 3, 100]\n",
            "  Immutable integer: 10\n"
          ]
        }
      ]
    },
    {
      "cell_type": "code",
      "source": [
        "#7. Write a program that performs basic arithmetic operations on two user-input numbers."
      ],
      "metadata": {
        "id": "lFux0oFypmBm"
      },
      "execution_count": null,
      "outputs": []
    },
    {
      "cell_type": "code",
      "metadata": {
        "colab": {
          "base_uri": "https://localhost:8080/"
        },
        "id": "fc05d5f2",
        "outputId": "794ddbd1-f5f0-4fc0-e632-f3c60f89942a"
      },
      "source": [
        "# Get input from the user\n",
        "num1 = float(input(\"Enter the first number: \"))\n",
        "num2 = float(input(\"Enter the second number: \"))\n",
        "\n",
        "# Perform basic arithmetic operations\n",
        "sum_result = num1 + num2\n",
        "difference_result = num1 - num2\n",
        "product_result = num1 * num2\n",
        "\n",
        "# Handle division by zero\n",
        "if num2 != 0:\n",
        "  division_result = num1 / num2\n",
        "else:\n",
        "  division_result = \"Cannot divide by zero\"\n",
        "\n",
        "# Print the results\n",
        "print(f\"\\nResults:\")\n",
        "print(f\"Sum: {sum_result}\")\n",
        "print(f\"Difference: {difference_result}\")\n",
        "print(f\"Product: {product_result}\")\n",
        "print(f\"Division: {division_result}\")"
      ],
      "execution_count": 17,
      "outputs": [
        {
          "output_type": "stream",
          "name": "stdout",
          "text": [
            "Enter the first number: 26\n",
            "Enter the second number: 30\n",
            "\n",
            "Results:\n",
            "Sum: 56.0\n",
            "Difference: -4.0\n",
            "Product: 780.0\n",
            "Division: 0.8666666666666667\n"
          ]
        }
      ]
    },
    {
      "cell_type": "code",
      "metadata": {
        "colab": {
          "base_uri": "https://localhost:8080/"
        },
        "id": "1cbd7f91",
        "outputId": "a41c641d-672a-4813-8d11-f298ffd3b81a"
      },
      "source": [
        "#8. Write a program to demonstrate the use of logical operators.\n",
        "\n",
        "# Demonstrating the 'and' operator\n",
        "print(\"Demonstrating the 'and' operator:\")\n",
        "x = 10\n",
        "y = 20\n",
        "if x > 5 and y < 25:\n",
        "  print(\"Both conditions are true: x is greater than 5 AND y is less than 25\")\n",
        "\n",
        "# Demonstrating the 'or' operator\n",
        "print(\"\\nDemonstrating the 'or' operator:\")\n",
        "a = 5\n",
        "b = 15\n",
        "if a < 10 or b > 20:\n",
        "  print(\"At least one condition is true: a is less than 10 OR b is greater than 20\")\n",
        "\n",
        "# Demonstrating the 'not' operator\n",
        "print(\"\\nDemonstrating the 'not' operator:\")\n",
        "is_sunny = False\n",
        "if not is_sunny:\n",
        "  print(\"The condition is not true: It is NOT sunny\")\n",
        "\n",
        "is_raining = True\n",
        "if not is_raining:\n",
        "    print(\"It is not raining\")\n",
        "else:\n",
        "    print(\"It is raining\")"
      ],
      "execution_count": 18,
      "outputs": [
        {
          "output_type": "stream",
          "name": "stdout",
          "text": [
            "Demonstrating the 'and' operator:\n",
            "Both conditions are true: x is greater than 5 AND y is less than 25\n",
            "\n",
            "Demonstrating the 'or' operator:\n",
            "At least one condition is true: a is less than 10 OR b is greater than 20\n",
            "\n",
            "Demonstrating the 'not' operator:\n",
            "The condition is not true: It is NOT sunny\n",
            "It is raining\n"
          ]
        }
      ]
    },
    {
      "cell_type": "code",
      "metadata": {
        "colab": {
          "base_uri": "https://localhost:8080/"
        },
        "id": "e10949db",
        "outputId": "75c47f8b-40f9-4fd9-e950-7c7db76df910"
      },
      "source": [
        "#9.  Write a Python program to convert user input from string to integer, float, and boolean types\n",
        "\n",
        "\n",
        "# Get user input as a string\n",
        "user_input_str = input(\"Enter a value: \")\n",
        "\n",
        "# Convert to integer (handle potential errors)\n",
        "try:\n",
        "  user_input_int = int(user_input_str)\n",
        "  print(f\"\\nConverted to integer: {user_input_int} (Type: {type(user_input_int)})\")\n",
        "except ValueError:\n",
        "  print(f\"\\nCould not convert '{user_input_str}' to integer.\")\n",
        "\n",
        "# Convert to float (handle potential errors)\n",
        "try:\n",
        "  user_input_float = float(user_input_str)\n",
        "  print(f\"Converted to float: {user_input_float} (Type: {type(user_input_float)})\")\n",
        "except ValueError:\n",
        "  print(f\"Could not convert '{user_input_str}' to float.\")\n",
        "\n",
        "# Convert to boolean\n",
        "# Note: bool() converts most non-empty strings to True, and empty strings to False.\n",
        "# For more specific boolean conversion (e.g., \"True\" to True, \"False\" to False),\n",
        "# you might need additional logic. Here we use the default bool() behavior.\n",
        "user_input_bool = bool(user_input_str)\n",
        "print(f\"Converted to boolean: {user_input_bool} (Type: {type(user_input_bool)})\")"
      ],
      "execution_count": 19,
      "outputs": [
        {
          "output_type": "stream",
          "name": "stdout",
          "text": [
            "Enter a value: 30\n",
            "\n",
            "Converted to integer: 30 (Type: <class 'int'>)\n",
            "Converted to float: 30.0 (Type: <class 'float'>)\n",
            "Converted to boolean: True (Type: <class 'bool'>)\n"
          ]
        }
      ]
    },
    {
      "cell_type": "code",
      "metadata": {
        "colab": {
          "base_uri": "https://localhost:8080/"
        },
        "id": "2593269f",
        "outputId": "269ae6d8-837e-4d26-9075-9a5b2740be00"
      },
      "source": [
        "#10.Write code to demonstrate type casting with list elements\n",
        "\n",
        "# Create a list with elements of different types\n",
        "my_list = [\"123\", 456, \"78.9\", True, False]\n",
        "print(\"Original list:\", my_list)\n",
        "print(\"Types of original elements:\", [type(item) for item in my_list])\n",
        "\n",
        "# Demonstrate type casting\n",
        "casted_list = []\n",
        "for item in my_list:\n",
        "  try:\n",
        "    # Attempt to cast to integer\n",
        "    casted_list.append(int(item))\n",
        "  except (ValueError, TypeError):\n",
        "    try:\n",
        "      # Attempt to cast to float if integer casting fails\n",
        "      casted_list.append(float(item))\n",
        "    except (ValueError, TypeError):\n",
        "      # Attempt to cast to string if both fail\n",
        "      casted_list.append(str(item))\n",
        "\n",
        "print(\"\\nList after attempting type casting:\", casted_list)\n",
        "print(\"Types of casted elements:\", [type(item) for item in casted_list])\n",
        "\n",
        "# Another example: specifically casting elements to strings\n",
        "string_list = [str(item) for item in my_list]\n",
        "print(\"\\nList with all elements casted to strings:\", string_list)\n",
        "print(\"Types of string elements:\", [type(item) for item in string_list])\n",
        "\n",
        "# Example of casting specific elements\n",
        "if len(my_list) > 1:\n",
        "  try:\n",
        "    # Cast the second element to a float\n",
        "    my_list[1] = float(my_list[1])\n",
        "    print(f\"\\nList after casting the second element to float:\", my_list)\n",
        "    print(f\"Type of the second element:\", type(my_list[1]))\n",
        "  except (ValueError, TypeError):\n",
        "    print(f\"\\nCould not cast the second element to float.\")"
      ],
      "execution_count": 21,
      "outputs": [
        {
          "output_type": "stream",
          "name": "stdout",
          "text": [
            "Original list: ['123', 456, '78.9', True, False]\n",
            "Types of original elements: [<class 'str'>, <class 'int'>, <class 'str'>, <class 'bool'>, <class 'bool'>]\n",
            "\n",
            "List after attempting type casting: [123, 456, 78.9, 1, 0]\n",
            "Types of casted elements: [<class 'int'>, <class 'int'>, <class 'float'>, <class 'int'>, <class 'int'>]\n",
            "\n",
            "List with all elements casted to strings: ['123', '456', '78.9', 'True', 'False']\n",
            "Types of string elements: [<class 'str'>, <class 'str'>, <class 'str'>, <class 'str'>, <class 'str'>]\n",
            "\n",
            "List after casting the second element to float: ['123', 456.0, '78.9', True, False]\n",
            "Type of the second element: <class 'float'>\n"
          ]
        }
      ]
    },
    {
      "cell_type": "code",
      "metadata": {
        "colab": {
          "base_uri": "https://localhost:8080/"
        },
        "id": "99f0b6a0",
        "outputId": "36fceef2-6220-4931-b796-bbbaf257cb3a"
      },
      "source": [
        "#12.Write a for loop to print numbers from 1 to 10.\n",
        "\n",
        "for i in range(1, 11):\n",
        "  print(i)"
      ],
      "execution_count": 22,
      "outputs": [
        {
          "output_type": "stream",
          "name": "stdout",
          "text": [
            "1\n",
            "2\n",
            "3\n",
            "4\n",
            "5\n",
            "6\n",
            "7\n",
            "8\n",
            "9\n",
            "10\n"
          ]
        }
      ]
    },
    {
      "cell_type": "code",
      "metadata": {
        "colab": {
          "base_uri": "https://localhost:8080/"
        },
        "id": "f232b68d",
        "outputId": "a464b33c-aec0-4b95-d1fc-44316098a281"
      },
      "source": [
        "#13. Write a Python program to find the sum of all even numbers between 1 and 50\n",
        "\n",
        "# Initialize a variable to store the sum\n",
        "sum_of_evens = 0\n",
        "\n",
        "# Iterate through numbers from 1 to 50\n",
        "for number in range(1, 51):\n",
        "  # Check if the number is even\n",
        "  if number % 2 == 0:\n",
        "    # Add the even number to the sum\n",
        "    sum_of_evens += number\n",
        "\n",
        "# Print the result\n",
        "print(f\"The sum of all even numbers between 1 and 50 is: {sum_of_evens}\")"
      ],
      "execution_count": 23,
      "outputs": [
        {
          "output_type": "stream",
          "name": "stdout",
          "text": [
            "The sum of all even numbers between 1 and 50 is: 650\n"
          ]
        }
      ]
    },
    {
      "cell_type": "code",
      "source": [],
      "metadata": {
        "id": "re_MVVeZuLM0"
      },
      "execution_count": null,
      "outputs": []
    },
    {
      "cell_type": "code",
      "metadata": {
        "colab": {
          "base_uri": "https://localhost:8080/"
        },
        "id": "153db508",
        "outputId": "43492bd7-43a1-441e-a218-6ee5f4a09565"
      },
      "source": [
        "# Get input string from the user\n",
        "input_string = input(\"Enter a string to reverse: \")\n",
        "\n",
        "# Initialize an empty string to store the reversed string\n",
        "reversed_string = \"\"\n",
        "\n",
        "# Get the length of the input string\n",
        "length = len(input_string)\n",
        "\n",
        "# Use a while loop to iterate through the string from the end\n",
        "index = length - 1\n",
        "while index >= 0:\n",
        "  reversed_string += input_string[index]\n",
        "  index -= 1\n",
        "\n",
        "# Print the reversed string\n",
        "print(f\"The reversed string is: {reversed_string}\")"
      ],
      "execution_count": 24,
      "outputs": [
        {
          "output_type": "stream",
          "name": "stdout",
          "text": [
            "Enter a string to reverse: pallavi\n",
            "The reversed string is: ivallap\n"
          ]
        }
      ]
    },
    {
      "cell_type": "code",
      "source": [],
      "metadata": {
        "id": "PS7z10o-u2nV"
      },
      "execution_count": null,
      "outputs": []
    },
    {
      "cell_type": "code",
      "metadata": {
        "colab": {
          "base_uri": "https://localhost:8080/"
        },
        "id": "553e7433",
        "outputId": "619dfdc2-9d8b-4d13-c097-725139863f43"
      },
      "source": [
        "#14. Write a Python program to calculate the factorial of a number provided by the user using a while loop.\n",
        "\n",
        "# Get input from the user\n",
        "num = int(input(\"Enter a non-negative integer to calculate its factorial: \"))\n",
        "\n",
        "# Check if the number is negative\n",
        "if num < 0:\n",
        "  print(\"Factorial is not defined for negative numbers.\")\n",
        "elif num == 0:\n",
        "  print(\"The factorial of 0 is 1.\")\n",
        "else:\n",
        "  # Initialize factorial to 1\n",
        "  factorial = 1\n",
        "  # Initialize a counter for the while loop\n",
        "  count = 1\n",
        "  # Calculate factorial using a while loop\n",
        "  while count <= num:\n",
        "    factorial *= count\n",
        "    count += 1\n",
        "  print(f\"The factorial of {num} is: {factorial}\")"
      ],
      "execution_count": 26,
      "outputs": [
        {
          "output_type": "stream",
          "name": "stdout",
          "text": [
            "Enter a non-negative integer to calculate its factorial: 12\n",
            "The factorial of 12 is: 479001600\n"
          ]
        }
      ]
    },
    {
      "cell_type": "code",
      "source": [],
      "metadata": {
        "id": "kz1Da0zHvJkr"
      },
      "execution_count": null,
      "outputs": []
    }
  ]
}